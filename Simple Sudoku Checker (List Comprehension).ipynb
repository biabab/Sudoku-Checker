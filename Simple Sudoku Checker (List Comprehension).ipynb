{
 "cells": [
  {
   "cell_type": "code",
   "execution_count": 1,
   "metadata": {},
   "outputs": [],
   "source": [
    "#Requirements\n",
    "import numpy as np"
   ]
  },
  {
   "cell_type": "code",
   "execution_count": 2,
   "metadata": {},
   "outputs": [],
   "source": [
    "#A sudoku checker using list comprehension\n",
    "def sudoku_checker(player_input):\n",
    "    #player_input is a 9 by 9 array representing a completed sudoku board\n",
    "    print(player_input)\n",
    "    full_board_error_count= 0\n",
    "    sub_grid_error_count = 0\n",
    "      \n",
    "    #checks entire grid for row and column errors\n",
    "    for x in range(9):\n",
    "        row = player_input[x,:]\n",
    "        column = player_input[:,x]\n",
    "        if len(row) != len(set(row)) | len(column) != len(set(column)):\n",
    "            full_board_error_count += 1\n",
    "    if full_board_error_count == 0:\n",
    "        print(\"No errors detected in 9 x 9 grid columns or rows!\")\n",
    "    else:\n",
    "        print(\"A total of {} 9 x 9 grid row or column error(s) detected.\".format(full_board_error_count))\n",
    "        \n",
    "    #checks 3 x 3 sub grids\n",
    "    for x in range(0,9,3):\n",
    "        for y in range(0,9,3):\n",
    "            sub_grid = player_input[x:x + 3,y:y + 3]\n",
    "            sub_grid_set = {column for row in sub_grid for column in row}\n",
    "            if sub_grid.size != len(sub_grid_set):\n",
    "                sub_grid_error_count += 1\n",
    "    if sub_grid_error_count == 0:\n",
    "        print(\"No errors detected in 3 x 3 sub grids!\")\n",
    "    else:\n",
    "        print(\"A total of {} 3 x 3 sub grid error(s) detected.\".format(sub_grid_error_count))\n",
    "            \n",
    "        \n",
    "    error_total = full_board_error_count + sub_grid_error_count\n",
    "    if error_total == 0:\n",
    "        return \"There are no mistakes on your sudoku board! :)\"\n",
    "    else:\n",
    "        if error_total == 1:\n",
    "            return \"There is one error somewhere on your Sudoku board :(\"\n",
    "        else:\n",
    "            return \"There are a total of {} errors on your Sudoku board :(\".format(error_total)\n"
   ]
  },
  {
   "cell_type": "code",
   "execution_count": 3,
   "metadata": {},
   "outputs": [
    {
     "name": "stdout",
     "output_type": "stream",
     "text": [
      "[[2 1 4 7 8 9 3 5 6]\n",
      " [7 9 5 1 6 3 8 4 2]\n",
      " [8 6 3 4 2 5 9 1 7]\n",
      " [3 4 2 6 7 1 5 9 8]\n",
      " [1 5 9 8 3 2 6 7 4]\n",
      " [6 7 8 5 9 4 2 3 1]\n",
      " [4 3 6 2 5 7 1 8 9]\n",
      " [5 2 1 9 4 8 7 6 3]\n",
      " [9 8 7 3 1 6 4 2 5]]\n",
      "No errors detected in 9 x 9 grid columns or rows!\n",
      "No errors detected in 3 x 3 sub grids!\n",
      "There are no mistakes on your sudoku board! :) \n",
      "\n",
      "[[7 1 1 3 5 3 6 1 8]\n",
      " [7 5 5 8 7 5 8 5 2]\n",
      " [2 3 4 1 1 1 3 2 3]\n",
      " [5 8 4 5 5 4 8 1 3]\n",
      " [6 2 4 5 2 8 5 8 2]\n",
      " [5 4 7 3 7 4 1 6 8]\n",
      " [5 8 5 7 4 4 1 2 3]\n",
      " [4 2 7 6 1 7 4 3 4]\n",
      " [2 4 1 8 2 5 4 8 1]]\n",
      "A total of 9 9 x 9 grid row or column error(s) detected.\n",
      "A total of 9 3 x 3 sub grid error(s) detected.\n",
      "There are a total of 18 errors on your Sudoku board :(\n"
     ]
    }
   ],
   "source": [
    "#Test cell\n",
    "random_sudoku_board = np.random.randint(1, 9, size = (9,9))\n",
    "correct_sudoku_board = np.array([[2, 1, 4, 7, 8, 9, 3, 5, 6],\n",
    "                                      [7, 9, 5, 1, 6, 3, 8, 4, 2],\n",
    "                                      [8, 6, 3, 4, 2, 5, 9, 1, 7],\n",
    "                                      [3, 4, 2, 6, 7, 1, 5, 9, 8],\n",
    "                                      [1, 5, 9, 8, 3, 2, 6, 7, 4],\n",
    "                                      [6, 7, 8, 5, 9, 4, 2, 3, 1],\n",
    "                                      [4, 3, 6, 2, 5, 7, 1, 8, 9],\n",
    "                                      [5, 2, 1, 9, 4, 8, 7, 6, 3],\n",
    "                                      [9, 8, 7, 3, 1, 6, 4, 2, 5]])\n",
    "\n",
    "print(sudoku_checker(correct_sudoku_board), \"\\n\")\n",
    "print(sudoku_checker(random_sudoku_board))"
   ]
  }
 ],
 "metadata": {
  "kernelspec": {
   "display_name": "Python 3",
   "language": "python",
   "name": "python3"
  },
  "language_info": {
   "codemirror_mode": {
    "name": "ipython",
    "version": 3
   },
   "file_extension": ".py",
   "mimetype": "text/x-python",
   "name": "python",
   "nbconvert_exporter": "python",
   "pygments_lexer": "ipython3",
   "version": "3.8.5"
  }
 },
 "nbformat": 4,
 "nbformat_minor": 4
}
