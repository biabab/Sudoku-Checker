{
 "cells": [
  {
   "cell_type": "code",
   "execution_count": 77,
   "metadata": {},
   "outputs": [],
   "source": [
    "#Requirements\n",
    "import numpy as np"
   ]
  },
  {
   "cell_type": "code",
   "execution_count": 78,
   "metadata": {},
   "outputs": [],
   "source": [
    "def sudoku_checker(player_input):\n",
    "    #player_input is a 9 by 9 array representing a completed sudoku board\n",
    "    print(player_input)\n",
    "    key = list(range(1,9))\n",
    "    full_board_error_count= 0\n",
    "    sub_grid_error_count = 0\n",
    "      \n",
    "    #checks entire grid for row and column errors\n",
    "    for x in range(9):\n",
    "        for y in key:\n",
    "            if (np.count_nonzero(player_input[x,:] == y) != 1) & (np.count_nonzero(player_input[:,x] == y) != 1):\n",
    "                full_board_error_count += 1\n",
    "    if full_board_error_count == 0:\n",
    "        print(\"No errors detected in 9 x 9 grid columns or rows! :)\")\n",
    "    else:\n",
    "        print(\"A total of {} 9 x 9 grid row or column error(s) detected.\".format(full_board_error_count))\n",
    "        \n",
    "    #checks 3 x 3 sub grids\n",
    "    for row in range(3):\n",
    "        for column in range(3):\n",
    "            if np.count_nonzero(player_input[row:row + 3,column:column + 3]) != 1:\n",
    "                sub_grid_error_count += 1\n",
    "    if sub_grid_error_count == 0:\n",
    "        print(\"No errors detected in 3 x 3 sub grids! :)\")\n",
    "    else:\n",
    "        print(\"A total of {} 3 x 3 sub grid error(s) detected.\".format(sub_grid_error_count))\n",
    "            \n",
    "        \n",
    "    if bool(full_board_error_count) == False or bool(sub_grid_error_count) == False:\n",
    "        return \"What you have on your Sudoku board thus far is correct!\"\n",
    "    else:\n",
    "        return \"There's at least one mistake somewhere on your Sudoku board :(\"\n"
   ]
  },
  {
   "cell_type": "code",
   "execution_count": 79,
   "metadata": {},
   "outputs": [
    {
     "name": "stdout",
     "output_type": "stream",
     "text": [
      "[[2 1 4 7 8 9 3 5 6]\n",
      " [7 9 5 1 6 3 8 4 2]\n",
      " [8 6 3 4 2 5 9 1 7]\n",
      " [3 4 2 6 7 1 5 9 8]\n",
      " [1 5 9 8 3 2 6 7 4]\n",
      " [6 7 8 5 9 4 2 3 1]\n",
      " [4 3 6 2 5 7 1 8 9]\n",
      " [5 2 1 9 4 8 7 6 3]\n",
      " [9 8 7 3 1 6 4 2 5]]\n",
      "No errors detected in 9 x 9 grid columns or rows! :)\n",
      "A total of 9 3 x 3 sub grid error(s) detected.\n",
      "[[8 1 1 8 4 5 1 2 2]\n",
      " [4 7 2 8 2 7 1 1 2]\n",
      " [5 4 4 2 7 3 1 4 1]\n",
      " [4 1 3 8 4 5 3 2 6]\n",
      " [6 2 1 4 7 5 3 3 3]\n",
      " [1 2 4 2 6 4 6 3 1]\n",
      " [1 2 4 8 4 3 4 7 4]\n",
      " [5 2 6 2 2 1 3 7 4]\n",
      " [4 3 4 6 1 4 5 4 3]]\n",
      "A total of 27 9 x 9 grid row or column error(s) detected.\n",
      "A total of 9 3 x 3 sub grid error(s) detected.\n"
     ]
    },
    {
     "data": {
      "text/plain": [
       "\"There's at least one mistake somewhere on your Sudoku board :(\""
      ]
     },
     "execution_count": 79,
     "metadata": {},
     "output_type": "execute_result"
    }
   ],
   "source": [
    "#Test cell\n",
    "random_test_sudoku_board = np.random.randint(1, 9, size = (9,9))\n",
    "correct_test_sudoku_board = np.array([[2, 1, 4, 7, 8, 9, 3, 5, 6],\n",
    "                                 [7, 9, 5, 1, 6, 3, 8, 4, 2],\n",
    "                                 [8, 6, 3, 4, 2, 5, 9, 1, 7],\n",
    "                                 [3, 4, 2, 6, 7, 1, 5, 9, 8],\n",
    "                                 [1, 5, 9, 8, 3, 2, 6, 7, 4],\n",
    "                                 [6, 7, 8, 5, 9, 4, 2, 3, 1],\n",
    "                                 [4, 3, 6, 2, 5, 7, 1, 8, 9],\n",
    "                                 [5, 2, 1, 9, 4, 8, 7, 6, 3],\n",
    "                                 [9, 8, 7, 3, 1, 6, 4, 2, 5]])\n",
    "\n",
    "sudoku_checker(correct_test_sudoku_board)\n",
    "sudoku_checker(random_test_sudoku_board)"
   ]
  }
 ],
 "metadata": {
  "kernelspec": {
   "display_name": "Python 3",
   "language": "python",
   "name": "python3"
  },
  "language_info": {
   "codemirror_mode": {
    "name": "ipython",
    "version": 3
   },
   "file_extension": ".py",
   "mimetype": "text/x-python",
   "name": "python",
   "nbconvert_exporter": "python",
   "pygments_lexer": "ipython3",
   "version": "3.8.5"
  }
 },
 "nbformat": 4,
 "nbformat_minor": 4
}
